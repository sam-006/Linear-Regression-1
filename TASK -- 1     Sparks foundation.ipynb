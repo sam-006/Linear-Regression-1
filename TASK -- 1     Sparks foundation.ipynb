{
 "cells": [
  {
   "cell_type": "code",
   "execution_count": 2,
   "id": "f54f4c27",
   "metadata": {},
   "outputs": [],
   "source": [
    "import pandas as pd\n",
    "import seaborn as sns\n",
    "import numpy as np\n",
    "import matplotlib.pyplot as plt"
   ]
  },
  {
   "cell_type": "code",
   "execution_count": 5,
   "id": "eab5fb5a",
   "metadata": {},
   "outputs": [],
   "source": [
    "##Based on hours we need to predict scores using linear regression"
   ]
  },
  {
   "cell_type": "code",
   "execution_count": 75,
   "id": "f7d81f4c",
   "metadata": {},
   "outputs": [],
   "source": [
    "#let us read data from the following link\n",
    "df=pd.read_csv(\"http://bit.ly/w-data\")\n",
    "X=df['Hours'].values.reshape(25,1)\n",
    "y=df[\"Scores\"].values.reshape(25,1)\n"
   ]
  },
  {
   "cell_type": "code",
   "execution_count": 76,
   "id": "82e3c923",
   "metadata": {},
   "outputs": [
    {
     "data": {
      "image/png": "[encoded data removed]",
      "text/plain": [
       "<Figure size 900x600 with 1 Axes>"
      ]
     },
     "metadata": {
      "needs_background": "light"
     },
     "output_type": "display_data"
    },
    {
     "name": "stdout",
     "output_type": "stream",
     "text": [
      "  We can clearly see that the Hours and Scores are correlated each other   \n"
     ]
    }
   ],
   "source": [
    "#now before moving into regression lets visualize the data to get some idea about it\n",
    "fig=plt.figure(dpi=150)\n",
    "fig.add_axes([0,0,0.5,0.5])\n",
    "plt.scatter(X,y,color=\"blue\",alpha=0.4)\n",
    "plt.title(\"Hours vs Scores\")\n",
    "plt.xlabel(\"Hours\")\n",
    "plt.ylabel(\"Scores\")\n",
    "plt.show()\n",
    "print(\"  We can clearly see that the Hours and Scores are correlated each other   \")"
   ]
  },
  {
   "cell_type": "code",
   "execution_count": 104,
   "id": "c661e3e6",
   "metadata": {},
   "outputs": [],
   "source": [
    "#Now we need to train,test,split our data using Scikit learn library\n",
    "from sklearn.model_selection import train_test_split\n",
    "X_train,X_test,y_train,y_test=train_test_split(X,y,test_size=0.2,random_state=0)\n"
   ]
  },
  {
   "cell_type": "code",
   "execution_count": 112,
   "id": "f759ade3",
   "metadata": {},
   "outputs": [
    {
     "data": {
      "text/plain": [
       "LinearRegression()"
      ]
     },
     "execution_count": 112,
     "metadata": {},
     "output_type": "execute_result"
    }
   ],
   "source": [
    "#let us import our model\n",
    "from sklearn.linear_model import LinearRegression\n",
    "model=LinearRegression()\n",
    "model.fit(X_train,y_train)"
   ]
  },
  {
   "cell_type": "code",
   "execution_count": 125,
   "id": "9c871451",
   "metadata": {},
   "outputs": [
    {
     "data": {
      "image/png": "[encoded data removed]",
      "text/plain": [
       "<Figure size 432x288 with 1 Axes>"
      ]
     },
     "metadata": {
      "needs_background": "light"
     },
     "output_type": "display_data"
    }
   ],
   "source": [
    "\n",
    "l=model.coef_*X+model.intercept_\n",
    "plt.scatter(X,y)\n",
    "plt.plot(X,l)\n",
    "plt.show()\n"
   ]
  },
  {
   "cell_type": "code",
   "execution_count": 145,
   "id": "a8ab68c5",
   "metadata": {},
   "outputs": [
    {
     "name": "stdout",
     "output_type": "stream",
     "text": [
      "[[16.88414476]\n",
      " [33.73226078]\n",
      " [75.357018  ]\n",
      " [26.79480124]\n",
      " [60.49103328]]\n",
      "[[20]\n",
      " [27]\n",
      " [69]\n",
      " [30]\n",
      " [62]]\n"
     ]
    }
   ],
   "source": [
    "#test predictions vs actual values\n",
    "test_pred=model.predict(X_test)\n",
    "print(test_pred)\n",
    "print(y_test)"
   ]
  },
  {
   "cell_type": "code",
   "execution_count": 128,
   "id": "58c6b159",
   "metadata": {},
   "outputs": [
    {
     "name": "stdout",
     "output_type": "stream",
     "text": [
      "4.183859899002975\n",
      "21.598769307217406\n",
      "4.647447612100367\n"
     ]
    }
   ],
   "source": [
    "#finding different kind of errors\n",
    "from sklearn.metrics import mean_absolute_error,mean_squared_error\n",
    "MAE= mean_absolute_error(y_test,test_pred)\n",
    "MSE=mean_squared_error(y_test,test_pred)\n",
    "RMSE=np.sqrt(MSE)\n",
    "print(MAE)\n",
    "print(MSE)\n",
    "print(RMSE)"
   ]
  },
  {
   "cell_type": "code",
   "execution_count": 132,
   "id": "c15f93f4",
   "metadata": {},
   "outputs": [],
   "source": [
    "#now let us do for the whole data\n",
    "final_model=LinearRegression()\n",
    "final_model.fit(X,y)\n",
    "m=final_model.coef_\n",
    "c=final_model.intercept_"
   ]
  },
  {
   "cell_type": "code",
   "execution_count": 139,
   "id": "64b20997",
   "metadata": {},
   "outputs": [
    {
     "data": {
      "text/plain": [
       "array([[92.90985477]])"
      ]
     },
     "execution_count": 139,
     "metadata": {},
     "output_type": "execute_result"
    }
   ],
   "source": [
    "#since we need to predict for the score for studying 9.25 hours\n",
    "Y=m*(9.25)+c\n",
    "Y"
   ]
  },
  {
   "cell_type": "code",
   "execution_count": 147,
   "id": "bf38b0fb",
   "metadata": {},
   "outputs": [],
   "source": [
    "##The conclusion is that if a person studies for 9.25 hours a day then the predicted score is 92.90985477"
   ]
  },
  {
   "cell_type": "code",
   "execution_count": null,
   "id": "31d9f164",
   "metadata": {},
   "outputs": [],
   "source": []
  },
  {
   "cell_type": "code",
   "execution_count": null,
   "id": "2c139c80",
   "metadata": {},
   "outputs": [],
   "source": []
  }
 ],
 "metadata": {
  "kernelspec": {
   "display_name": "Python 3 (ipykernel)",
   "language": "python",
   "name": "python3"
  },
  "language_info": {
   "codemirror_mode": {
    "name": "ipython",
    "version": 3
   },
   "file_extension": ".py",
   "mimetype": "text/x-python",
   "name": "python",
   "nbconvert_exporter": "python",
   "pygments_lexer": "ipython3",
   "version": "3.8.10"
  }
 },
 "nbformat": 4,
 "nbformat_minor": 5
}
